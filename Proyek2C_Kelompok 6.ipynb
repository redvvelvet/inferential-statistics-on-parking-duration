{
  "cells":[
    {
      "cell_type":"markdown",
      "source":[
        "# Proyek 2C - Jangan Kelamaan Parkir!\n",
        "**Anggota Kelompok:**\n",
        "1. Christoper Vincent (10101190479)\n",
        "2. Christyane Zabdi (10101190118)\n",
        "3. Jason Caleb (10101201240)\n",
        "4. Vincent Chandra (10103190181)\n",
        "5. Reszisca Valentiana (10101190702)\n",
        "\n",
        "## Latar Belakang\n",
        "Dalam rangka menata kembali kebijakan kota mengenai perparkiran di kota Cambridge, sebagai ilmuwan data dari CIT, menggunakan data yang telah diambil dari beberapa titik dari tahun 2018-2019, mencoba untuk mendapatkan gambaran mengenai pola perilaku pengguna jasa lahan parkir, sehingga dapat diambil keputusan terkait berbagai pengaturan parkir bagi Pemkot Cambridge.\n",
        "## Tujuan\n",
        "Dengan adanya pengerjaan kode ini, tujuannya adalah untuk menarik kesimpulan dari data yang ada bagi Pemkot Cambridge mengenai rata-rata dan standar deviasi durasi parkir kendaraan. Selain itu, penarikan kesimpulan dari visualisasi dan analisis deskriptif dari pengolahan data yang kami lakukan."
      ],
      "attachments":{
        
      },
      "metadata":{
        
      }
    },
    {
      "cell_type":"markdown",
      "source":[
        "## Pengolahan Data "
      ],
      "attachments":{
        
      },
      "metadata":{
        
      }
    },
    {
      "cell_type":"code",
      "source":[
        "# Memanggil dataset-dataset, lalu menyimpannya ke dalam suatu variabel\n",
        "import pandas as pd\n",
        "\n",
        "grafton_west = pd.read_csv('grafton-west-december-18-march-19-10.csv')\n",
        "park_street = pd.read_csv('park-street-october-18-march-19-4.csv')\n",
        "queen_annes = pd.read_csv('queen-annes-terrace-october-18-march-19-1.csv')"
      ],
      "attachments":{
        
      },
      "execution_count":153,
      "outputs":[
        
      ],
      "metadata":{
        
      }
    },
    {
      "cell_type":"code",
      "source":[
        "# Menampilkan data Grafton West\n",
        "grafton_west"
      ],
      "attachments":{
        
      },
      "execution_count":154,
      "outputs":[
        {
          "data":{
            "text\/html":[
              "<div>\n",
              "<style scoped>\n",
              "    .dataframe tbody tr th:only-of-type {\n",
              "        vertical-align: middle;\n",
              "    }\n",
              "\n",
              "    .dataframe tbody tr th {\n",
              "        vertical-align: top;\n",
              "    }\n",
              "\n",
              "    .dataframe thead th {\n",
              "        text-align: right;\n",
              "    }\n",
              "<\/style>\n",
              "<table border=\"1\" class=\"dataframe\">\n",
              "  <thead>\n",
              "    <tr style=\"text-align: right;\">\n",
              "      <th><\/th>\n",
              "      <th>Facility<\/th>\n",
              "      <th>Carpark<\/th>\n",
              "      <th>Device<\/th>\n",
              "      <th>Entries<\/th>\n",
              "      <th>Exits<\/th>\n",
              "      <th>Parking Duration<\/th>\n",
              "      <th>Time<\/th>\n",
              "      <th>Unnamed: 7<\/th>\n",
              "    <\/tr>\n",
              "  <\/thead>\n",
              "  <tbody>\n",
              "    <tr>\n",
              "      <th>0<\/th>\n",
              "      <td>GraftonWest<\/td>\n",
              "      <td>Grafton West<\/td>\n",
              "      <td>GW Exit 2<\/td>\n",
              "      <td>0<\/td>\n",
              "      <td>1<\/td>\n",
              "      <td>362<\/td>\n",
              "      <td>01\/12\/2018 01:04<\/td>\n",
              "      <td>NaN<\/td>\n",
              "    <\/tr>\n",
              "    <tr>\n",
              "      <th>1<\/th>\n",
              "      <td>GraftonWest<\/td>\n",
              "      <td>Grafton West<\/td>\n",
              "      <td>GW Exit 1<\/td>\n",
              "      <td>0<\/td>\n",
              "      <td>1<\/td>\n",
              "      <td>245<\/td>\n",
              "      <td>01\/12\/2018 01:29<\/td>\n",
              "      <td>NaN<\/td>\n",
              "    <\/tr>\n",
              "    <tr>\n",
              "      <th>2<\/th>\n",
              "      <td>GraftonWest<\/td>\n",
              "      <td>Grafton West<\/td>\n",
              "      <td>GW Entry 1<\/td>\n",
              "      <td>1<\/td>\n",
              "      <td>0<\/td>\n",
              "      <td>0<\/td>\n",
              "      <td>01\/12\/2018 07:21<\/td>\n",
              "      <td>NaN<\/td>\n",
              "    <\/tr>\n",
              "    <tr>\n",
              "      <th>3<\/th>\n",
              "      <td>GraftonWest<\/td>\n",
              "      <td>Grafton West<\/td>\n",
              "      <td>GW Exit 1<\/td>\n",
              "      <td>0<\/td>\n",
              "      <td>1<\/td>\n",
              "      <td>17<\/td>\n",
              "      <td>01\/12\/2018 07:37<\/td>\n",
              "      <td>NaN<\/td>\n",
              "    <\/tr>\n",
              "    <tr>\n",
              "      <th>4<\/th>\n",
              "      <td>GraftonWest<\/td>\n",
              "      <td>Grafton West<\/td>\n",
              "      <td>GW Entry 2<\/td>\n",
              "      <td>1<\/td>\n",
              "      <td>0<\/td>\n",
              "      <td>0<\/td>\n",
              "      <td>01\/12\/2018 07:44<\/td>\n",
              "      <td>NaN<\/td>\n",
              "    <\/tr>\n",
              "    <tr>\n",
              "      <th>...<\/th>\n",
              "      <td>...<\/td>\n",
              "      <td>...<\/td>\n",
              "      <td>...<\/td>\n",
              "      <td>...<\/td>\n",
              "      <td>...<\/td>\n",
              "      <td>...<\/td>\n",
              "      <td>...<\/td>\n",
              "      <td>...<\/td>\n",
              "    <\/tr>\n",
              "    <tr>\n",
              "      <th>172588<\/th>\n",
              "      <td>GraftonWest<\/td>\n",
              "      <td>Grafton West<\/td>\n",
              "      <td>GW Exit 1<\/td>\n",
              "      <td>0<\/td>\n",
              "      <td>1<\/td>\n",
              "      <td>127<\/td>\n",
              "      <td>31\/12\/2018 21:24<\/td>\n",
              "      <td>NaN<\/td>\n",
              "    <\/tr>\n",
              "    <tr>\n",
              "      <th>172589<\/th>\n",
              "      <td>GraftonWest<\/td>\n",
              "      <td>Grafton West<\/td>\n",
              "      <td>GW Exit 1<\/td>\n",
              "      <td>0<\/td>\n",
              "      <td>1<\/td>\n",
              "      <td>190<\/td>\n",
              "      <td>31\/12\/2018 21:43<\/td>\n",
              "      <td>NaN<\/td>\n",
              "    <\/tr>\n",
              "    <tr>\n",
              "      <th>172590<\/th>\n",
              "      <td>GraftonWest<\/td>\n",
              "      <td>Grafton West<\/td>\n",
              "      <td>GW Exit 1<\/td>\n",
              "      <td>0<\/td>\n",
              "      <td>1<\/td>\n",
              "      <td>288<\/td>\n",
              "      <td>31\/12\/2018 22:46<\/td>\n",
              "      <td>NaN<\/td>\n",
              "    <\/tr>\n",
              "    <tr>\n",
              "      <th>172591<\/th>\n",
              "      <td>GraftonWest<\/td>\n",
              "      <td>Grafton West<\/td>\n",
              "      <td>GW Exit 1<\/td>\n",
              "      <td>0<\/td>\n",
              "      <td>1<\/td>\n",
              "      <td>158<\/td>\n",
              "      <td>31\/12\/2018 22:59<\/td>\n",
              "      <td>NaN<\/td>\n",
              "    <\/tr>\n",
              "    <tr>\n",
              "      <th>172592<\/th>\n",
              "      <td>GraftonWest<\/td>\n",
              "      <td>Grafton West<\/td>\n",
              "      <td>GW Exit 1<\/td>\n",
              "      <td>0<\/td>\n",
              "      <td>1<\/td>\n",
              "      <td>219<\/td>\n",
              "      <td>31\/12\/2018 23:32<\/td>\n",
              "      <td>NaN<\/td>\n",
              "    <\/tr>\n",
              "  <\/tbody>\n",
              "<\/table>\n",
              "<p>172593 rows × 8 columns<\/p>\n",
              "<\/div>"
            ]
          },
          "metadata":{
            
          },
          "output_type":"display_data"
        }
      ],
      "metadata":{
        
      }
    },
    {
      "cell_type":"code",
      "source":[
        "# Menampilkan data Park Street\n",
        "park_street"
      ],
      "attachments":{
        
      },
      "execution_count":155,
      "outputs":[
        {
          "data":{
            "text\/html":[
              "<div>\n",
              "<style scoped>\n",
              "    .dataframe tbody tr th:only-of-type {\n",
              "        vertical-align: middle;\n",
              "    }\n",
              "\n",
              "    .dataframe tbody tr th {\n",
              "        vertical-align: top;\n",
              "    }\n",
              "\n",
              "    .dataframe thead th {\n",
              "        text-align: right;\n",
              "    }\n",
              "<\/style>\n",
              "<table border=\"1\" class=\"dataframe\">\n",
              "  <thead>\n",
              "    <tr style=\"text-align: right;\">\n",
              "      <th><\/th>\n",
              "      <th>Facility<\/th>\n",
              "      <th>Carpark<\/th>\n",
              "      <th>Device<\/th>\n",
              "      <th>Entries<\/th>\n",
              "      <th>Exits<\/th>\n",
              "      <th>Parking Duration<\/th>\n",
              "      <th>Time<\/th>\n",
              "      <th>Unnamed: 7<\/th>\n",
              "    <\/tr>\n",
              "  <\/thead>\n",
              "  <tbody>\n",
              "    <tr>\n",
              "      <th>0<\/th>\n",
              "      <td>ParkStreet<\/td>\n",
              "      <td>Park Street<\/td>\n",
              "      <td>Park St EX2<\/td>\n",
              "      <td>0<\/td>\n",
              "      <td>1<\/td>\n",
              "      <td>297<\/td>\n",
              "      <td>01\/10\/2018 03:30<\/td>\n",
              "      <td>NaN<\/td>\n",
              "    <\/tr>\n",
              "    <tr>\n",
              "      <th>1<\/th>\n",
              "      <td>ParkStreet<\/td>\n",
              "      <td>Park Street<\/td>\n",
              "      <td>Park St EX2<\/td>\n",
              "      <td>0<\/td>\n",
              "      <td>1<\/td>\n",
              "      <td>547<\/td>\n",
              "      <td>01\/10\/2018 04:38<\/td>\n",
              "      <td>NaN<\/td>\n",
              "    <\/tr>\n",
              "    <tr>\n",
              "      <th>2<\/th>\n",
              "      <td>ParkStreet<\/td>\n",
              "      <td>Park Street<\/td>\n",
              "      <td>Park St EN1A<\/td>\n",
              "      <td>1<\/td>\n",
              "      <td>0<\/td>\n",
              "      <td>6<\/td>\n",
              "      <td>01\/10\/2018 05:45<\/td>\n",
              "      <td>NaN<\/td>\n",
              "    <\/tr>\n",
              "    <tr>\n",
              "      <th>3<\/th>\n",
              "      <td>ParkStreet<\/td>\n",
              "      <td>Park Street<\/td>\n",
              "      <td>Park St EX2<\/td>\n",
              "      <td>0<\/td>\n",
              "      <td>1<\/td>\n",
              "      <td>6<\/td>\n",
              "      <td>01\/10\/2018 05:50<\/td>\n",
              "      <td>NaN<\/td>\n",
              "    <\/tr>\n",
              "    <tr>\n",
              "      <th>4<\/th>\n",
              "      <td>ParkStreet<\/td>\n",
              "      <td>Park Street<\/td>\n",
              "      <td>Park St EN1B<\/td>\n",
              "      <td>1<\/td>\n",
              "      <td>0<\/td>\n",
              "      <td>278<\/td>\n",
              "      <td>01\/10\/2018 07:52<\/td>\n",
              "      <td>NaN<\/td>\n",
              "    <\/tr>\n",
              "    <tr>\n",
              "      <th>...<\/th>\n",
              "      <td>...<\/td>\n",
              "      <td>...<\/td>\n",
              "      <td>...<\/td>\n",
              "      <td>...<\/td>\n",
              "      <td>...<\/td>\n",
              "      <td>...<\/td>\n",
              "      <td>...<\/td>\n",
              "      <td>...<\/td>\n",
              "    <\/tr>\n",
              "    <tr>\n",
              "      <th>236750<\/th>\n",
              "      <td>ParkStreet<\/td>\n",
              "      <td>Park Street<\/td>\n",
              "      <td>Park St EX2<\/td>\n",
              "      <td>0<\/td>\n",
              "      <td>1<\/td>\n",
              "      <td>360<\/td>\n",
              "      <td>31\/12\/2018 23:18<\/td>\n",
              "      <td>NaN<\/td>\n",
              "    <\/tr>\n",
              "    <tr>\n",
              "      <th>236751<\/th>\n",
              "      <td>ParkStreet<\/td>\n",
              "      <td>Park Street<\/td>\n",
              "      <td>Park St EX2<\/td>\n",
              "      <td>0<\/td>\n",
              "      <td>1<\/td>\n",
              "      <td>61<\/td>\n",
              "      <td>31\/12\/2018 23:30<\/td>\n",
              "      <td>NaN<\/td>\n",
              "    <\/tr>\n",
              "    <tr>\n",
              "      <th>236752<\/th>\n",
              "      <td>ParkStreet<\/td>\n",
              "      <td>Park Street<\/td>\n",
              "      <td>Park St EX2<\/td>\n",
              "      <td>0<\/td>\n",
              "      <td>1<\/td>\n",
              "      <td>185<\/td>\n",
              "      <td>31\/12\/2018 23:30<\/td>\n",
              "      <td>NaN<\/td>\n",
              "    <\/tr>\n",
              "    <tr>\n",
              "      <th>236753<\/th>\n",
              "      <td>ParkStreet<\/td>\n",
              "      <td>Park Street<\/td>\n",
              "      <td>Park St EX1<\/td>\n",
              "      <td>0<\/td>\n",
              "      <td>1<\/td>\n",
              "      <td>249<\/td>\n",
              "      <td>31\/12\/2018 23:33<\/td>\n",
              "      <td>NaN<\/td>\n",
              "    <\/tr>\n",
              "    <tr>\n",
              "      <th>236754<\/th>\n",
              "      <td>ParkStreet<\/td>\n",
              "      <td>Park Street<\/td>\n",
              "      <td>Park St EN1A<\/td>\n",
              "      <td>1<\/td>\n",
              "      <td>0<\/td>\n",
              "      <td>0<\/td>\n",
              "      <td>31\/12\/2018 23:48<\/td>\n",
              "      <td>NaN<\/td>\n",
              "    <\/tr>\n",
              "  <\/tbody>\n",
              "<\/table>\n",
              "<p>236755 rows × 8 columns<\/p>\n",
              "<\/div>"
            ]
          },
          "metadata":{
            
          },
          "output_type":"display_data"
        }
      ],
      "metadata":{
        
      }
    },
    {
      "cell_type":"code",
      "source":[
        "# Menampilkan data Queen Annes\n",
        "queen_annes"
      ],
      "attachments":{
        
      },
      "execution_count":156,
      "outputs":[
        {
          "data":{
            "text\/html":[
              "<div>\n",
              "<style scoped>\n",
              "    .dataframe tbody tr th:only-of-type {\n",
              "        vertical-align: middle;\n",
              "    }\n",
              "\n",
              "    .dataframe tbody tr th {\n",
              "        vertical-align: top;\n",
              "    }\n",
              "\n",
              "    .dataframe thead th {\n",
              "        text-align: right;\n",
              "    }\n",
              "<\/style>\n",
              "<table border=\"1\" class=\"dataframe\">\n",
              "  <thead>\n",
              "    <tr style=\"text-align: right;\">\n",
              "      <th><\/th>\n",
              "      <th>Facility<\/th>\n",
              "      <th>Carpark<\/th>\n",
              "      <th>Device<\/th>\n",
              "      <th>Entries<\/th>\n",
              "      <th>Exits<\/th>\n",
              "      <th>Parking Duration<\/th>\n",
              "      <th>Time<\/th>\n",
              "      <th>Unnamed: 7<\/th>\n",
              "    <\/tr>\n",
              "  <\/thead>\n",
              "  <tbody>\n",
              "    <tr>\n",
              "      <th>0<\/th>\n",
              "      <td>Queen Anne<\/td>\n",
              "      <td>Queen Anne Terrace<\/td>\n",
              "      <td>QAT Entry 2<\/td>\n",
              "      <td>1<\/td>\n",
              "      <td>0<\/td>\n",
              "      <td>0<\/td>\n",
              "      <td>01\/10\/2018 06:06<\/td>\n",
              "      <td>NaN<\/td>\n",
              "    <\/tr>\n",
              "    <tr>\n",
              "      <th>1<\/th>\n",
              "      <td>Queen Anne<\/td>\n",
              "      <td>Queen Anne Terrace<\/td>\n",
              "      <td>QAT Entry 1<\/td>\n",
              "      <td>1<\/td>\n",
              "      <td>0<\/td>\n",
              "      <td>0<\/td>\n",
              "      <td>01\/10\/2018 06:31<\/td>\n",
              "      <td>NaN<\/td>\n",
              "    <\/tr>\n",
              "    <tr>\n",
              "      <th>2<\/th>\n",
              "      <td>Queen Anne<\/td>\n",
              "      <td>Queen Anne Terrace<\/td>\n",
              "      <td>QAT Entry 2<\/td>\n",
              "      <td>1<\/td>\n",
              "      <td>0<\/td>\n",
              "      <td>523<\/td>\n",
              "      <td>01\/10\/2018 06:31<\/td>\n",
              "      <td>NaN<\/td>\n",
              "    <\/tr>\n",
              "    <tr>\n",
              "      <th>3<\/th>\n",
              "      <td>Queen Anne<\/td>\n",
              "      <td>Queen Anne Terrace<\/td>\n",
              "      <td>QAT Entry 1<\/td>\n",
              "      <td>1<\/td>\n",
              "      <td>0<\/td>\n",
              "      <td>0<\/td>\n",
              "      <td>01\/10\/2018 06:37<\/td>\n",
              "      <td>NaN<\/td>\n",
              "    <\/tr>\n",
              "    <tr>\n",
              "      <th>4<\/th>\n",
              "      <td>Queen Anne<\/td>\n",
              "      <td>Queen Anne Terrace<\/td>\n",
              "      <td>QAT Entry 1<\/td>\n",
              "      <td>1<\/td>\n",
              "      <td>0<\/td>\n",
              "      <td>0<\/td>\n",
              "      <td>01\/10\/2018 06:48<\/td>\n",
              "      <td>NaN<\/td>\n",
              "    <\/tr>\n",
              "    <tr>\n",
              "      <th>...<\/th>\n",
              "      <td>...<\/td>\n",
              "      <td>...<\/td>\n",
              "      <td>...<\/td>\n",
              "      <td>...<\/td>\n",
              "      <td>...<\/td>\n",
              "      <td>...<\/td>\n",
              "      <td>...<\/td>\n",
              "      <td>...<\/td>\n",
              "    <\/tr>\n",
              "    <tr>\n",
              "      <th>218674<\/th>\n",
              "      <td>Queen Anne<\/td>\n",
              "      <td>Queen Anne Terrace<\/td>\n",
              "      <td>QAT Exit 1<\/td>\n",
              "      <td>0<\/td>\n",
              "      <td>1<\/td>\n",
              "      <td>138<\/td>\n",
              "      <td>31\/12\/2018 22:43<\/td>\n",
              "      <td>NaN<\/td>\n",
              "    <\/tr>\n",
              "    <tr>\n",
              "      <th>218675<\/th>\n",
              "      <td>Queen Anne<\/td>\n",
              "      <td>Queen Anne Terrace<\/td>\n",
              "      <td>QAT Exit 1<\/td>\n",
              "      <td>0<\/td>\n",
              "      <td>1<\/td>\n",
              "      <td>219<\/td>\n",
              "      <td>31\/12\/2018 22:50<\/td>\n",
              "      <td>NaN<\/td>\n",
              "    <\/tr>\n",
              "    <tr>\n",
              "      <th>218676<\/th>\n",
              "      <td>Queen Anne<\/td>\n",
              "      <td>Queen Anne Terrace<\/td>\n",
              "      <td>QAT Entry 2<\/td>\n",
              "      <td>1<\/td>\n",
              "      <td>0<\/td>\n",
              "      <td>0<\/td>\n",
              "      <td>31\/12\/2018 22:50<\/td>\n",
              "      <td>NaN<\/td>\n",
              "    <\/tr>\n",
              "    <tr>\n",
              "      <th>218677<\/th>\n",
              "      <td>Queen Anne<\/td>\n",
              "      <td>Queen Anne Terrace<\/td>\n",
              "      <td>QAT Exit 1<\/td>\n",
              "      <td>0<\/td>\n",
              "      <td>1<\/td>\n",
              "      <td>168<\/td>\n",
              "      <td>31\/12\/2018 23:16<\/td>\n",
              "      <td>NaN<\/td>\n",
              "    <\/tr>\n",
              "    <tr>\n",
              "      <th>218678<\/th>\n",
              "      <td>Queen Anne<\/td>\n",
              "      <td>Queen Anne Terrace<\/td>\n",
              "      <td>QAT Entry 2<\/td>\n",
              "      <td>1<\/td>\n",
              "      <td>0<\/td>\n",
              "      <td>0<\/td>\n",
              "      <td>31\/12\/2018 23:46<\/td>\n",
              "      <td>NaN<\/td>\n",
              "    <\/tr>\n",
              "  <\/tbody>\n",
              "<\/table>\n",
              "<p>218679 rows × 8 columns<\/p>\n",
              "<\/div>"
            ]
          },
          "metadata":{
            
          },
          "output_type":"display_data"
        }
      ],
      "metadata":{
        
      }
    },
    {
      "cell_type":"markdown",
      "source":[
        "Kolom yang diperlukan hanya 3, yaitu Entries, Exist, dan Parking Duration dimana:\n",
        "- Entries: Jika bernilai 1, maka menunjukkan aktivitas kendaraan masuk tempat parkir\n",
        "- Exits: Jika bernilai 1, maka menunjukkan aktivitas kendaraan keluar tempat parkir\n",
        "- Parking Duration: Durasi sejak kendaraan masuk tempat parkir sampai keluar dari tempat parkir"
      ],
      "attachments":{
        
      },
      "metadata":{
        
      }
    },
    {
      "cell_type":"code",
      "source":[
        "# Mengambil dan memilah data-data yang diperlukan saja, yaitu kolom \"Entries\", \"Exits\", dan \"Parking Duration\"\n",
        "grafton_west = grafton_west.iloc[:, [3,4,5]]\n",
        "park_street = park_street.iloc[:, [3,4,5]]\n",
        "queen_annes = queen_annes.iloc[:, [3,4,5]]"
      ],
      "attachments":{
        
      },
      "execution_count":157,
      "outputs":[
        
      ],
      "metadata":{
        
      }
    },
    {
      "cell_type":"code",
      "source":[
        "# Memeriksa jumlah baris null dan tipe data\n",
        "grafton_west.info(), park_street.info(), queen_annes.info()\n",
        "\n",
        "\n",
        "\n",
        "# Kesimpulan: tidak ditemukan baris null sehingga proses dapat lanjut ke tahap berikutnya"
      ],
      "attachments":{
        
      },
      "execution_count":158,
      "outputs":[
        {
          "name":"stdout",
          "text":[
            "<class 'pandas.core.frame.DataFrame'>\n",
            "RangeIndex: 172593 entries, 0 to 172592\n",
            "Data columns (total 3 columns):\n",
            " #   Column            Non-Null Count   Dtype \n",
            "---  ------            --------------   ----- \n",
            " 0   Entries           172593 non-null  int64 \n",
            " 1   Exits             172593 non-null  int64 \n",
            " 2   Parking Duration  172593 non-null  object\n",
            "dtypes: int64(2), object(1)\n",
            "memory usage: 4.0+ MB\n",
            "<class 'pandas.core.frame.DataFrame'>\n",
            "RangeIndex: 236755 entries, 0 to 236754\n",
            "Data columns (total 3 columns):\n",
            " #   Column            Non-Null Count   Dtype \n",
            "---  ------            --------------   ----- \n",
            " 0   Entries           236755 non-null  int64 \n",
            " 1   Exits             236755 non-null  int64 \n",
            " 2   Parking Duration  236755 non-null  object\n",
            "dtypes: int64(2), object(1)\n",
            "memory usage: 5.4+ MB\n",
            "<class 'pandas.core.frame.DataFrame'>\n",
            "RangeIndex: 218679 entries, 0 to 218678\n",
            "Data columns (total 3 columns):\n",
            " #   Column            Non-Null Count   Dtype \n",
            "---  ------            --------------   ----- \n",
            " 0   Entries           218679 non-null  int64 \n",
            " 1   Exits             218679 non-null  int64 \n",
            " 2   Parking Duration  218679 non-null  object\n",
            "dtypes: int64(2), object(1)\n",
            "memory usage: 5.0+ MB\n"
          ],
          "output_type":"stream"
        },
        {
          "data":{
            "text\/plain":[
              "(None, None, None)"
            ]
          },
          "metadata":{
            
          },
          "output_type":"display_data"
        }
      ],
      "metadata":{
        
      }
    },
    {
      "cell_type":"code",
      "source":[
        "# Mengimport modul \"warnings\" dengan tujuan agar tidak menampilkan \"warning message\" terkait slicing data\n",
        "import warnings\n",
        "warnings.filterwarnings('ignore')\n",
        "\n",
        "# Menghilangkan tanda koma pada kolom Parking Duration sehingga datanya dapat diproses sebagai suatu nilai\n",
        "grafton_west.iloc[:,2] = grafton_west.iloc[:,2].str.replace(',', '')\n",
        "park_street.iloc[:,2] = park_street.iloc[:,2].str.replace(',', '')\n",
        "queen_annes.iloc[:,2] = queen_annes.iloc[:,2].str.replace(',', '')\n",
        "\n",
        "# Mengubah tipe data kolom Parking Duration dari object menjadi integer\n",
        "grafton_west.iloc[:,2] = grafton_west.iloc[:,2].astype('int')\n",
        "park_street.iloc[:,2] = park_street.iloc[:,2].astype('int')\n",
        "queen_annes.iloc[:,2] = queen_annes.iloc[:,2].astype('int')"
      ],
      "attachments":{
        
      },
      "execution_count":159,
      "outputs":[
        
      ],
      "metadata":{
        
      }
    },
    {
      "cell_type":"markdown",
      "source":[
        "**Memastikan tidak ada data yang invalid**<br>\n",
        "\n",
        "Kondisi yang akan diperiksa:\n",
        "1. Saat entry = 1, exit = 0 dan saat entry = 0, exit = 1 \n",
        "2. Saat kendaraan masuk (entry = 1), durasi parkir 0\n",
        "3. Saat kendaraan keluar (exit = 1), durasi parkir tidak 0\n",
        "\n",
        "Tolak ukur suatu aktivitas dapat dikatakan sebagai tidak valid:\n",
        "1. Jika pada baris yang sama, terdapat angka yang sama (0 atau 1) pada kolom Entries dan Exits\n",
        "2. Jika terdapat kendaraan baru masuk tapi durasi parkir sudah terisi atau tidak 0\n",
        "3. Jika terdapat kendaraan keluar tapi durasi parkir 0"
      ],
      "attachments":{
        
      },
      "metadata":{
        
      }
    },
    {
      "cell_type":"code",
      "source":[
        "# Fungsi untuk menemukan apakah terdapat angka yang sama pada kolom Entries dan Exits\n",
        "def find_error_1(df, error_list):\n",
        "    for i in range(len(df)):\n",
        "        if ((df['Entries'][i] == 0) & (df['Exits'][i] == 0)) | ((df['Entries'][i] == 1) & (df['Exits'][i] == 1)):\n",
        "            error_list.append(i)\n",
        "\n",
        "# Fungsi untuk menemukan apakah terdapat durasi parkir yang sudah terisi ketika kendaraan masuk dan belum keluar\n",
        "def find_error_2(df, error_list):\n",
        "    for i in range(len(df)):\n",
        "        if (df['Entries'][i] == 1) & (df['Parking Duration'][i] != 0):\n",
        "            error_list.append(i)\n",
        "\n",
        "# Fungsi untuk menemukan apakah terdapat durasi parkir yang bernilai 0 ketika kendaraan keluar\n",
        "def find_error_3(df, error_list):\n",
        "    for i in range(len(df)):\n",
        "        if (df['Exits'][i] == 1) & (df['Parking Duration'][i] == 0):\n",
        "            error_list.append(i)\n",
        "\n",
        "# Fungsi untuk menemukan apakah terdapat baris yang tidak valid\n",
        "def check_error(df, error_list):\n",
        "    if len(error_list) == 0:\n",
        "        print('No error found \\n')\n",
        "    else:\n",
        "        print('Error found:', df.iloc[error_list].shape[0], 'rows \\n')"
      ],
      "attachments":{
        
      },
      "execution_count":160,
      "outputs":[
        
      ],
      "metadata":{
        
      }
    },
    {
      "cell_type":"code",
      "source":[
        "# Memeriksa apakah terdapat angka yang sama pada kolom Entries dan Exits\n",
        "error_gw = []\n",
        "find_error_1(grafton_west, error_gw)\n",
        "check_error(grafton_west, error_gw)\n",
        "\n",
        "error_ps = []\n",
        "find_error_1(park_street, error_ps)\n",
        "check_error(park_street, error_ps)\n",
        "\n",
        "error_qa = []\n",
        "find_error_1(queen_annes, error_qa)\n",
        "check_error(queen_annes, error_qa)"
      ],
      "attachments":{
        
      },
      "execution_count":161,
      "outputs":[
        {
          "name":"stdout",
          "text":[
            "No error found \n",
            "\n",
            "No error found \n",
            "\n",
            "No error found \n",
            "\n"
          ],
          "output_type":"stream"
        }
      ],
      "metadata":{
        
      }
    },
    {
      "cell_type":"code",
      "source":[
        "# Memeriksa apakah terdapat apakah terdapat durasi parkir yang sudah terisi ketika kendaraan masuk dan belum keluar\n",
        "error_2_gw = []\n",
        "find_error_2(grafton_west, error_2_gw)\n",
        "check_error(grafton_west, error_2_gw)\n",
        "\n",
        "error_2_ps = []\n",
        "find_error_2(park_street, error_2_ps)\n",
        "check_error(park_street, error_2_ps)\n",
        "\n",
        "error_2_qa = []\n",
        "find_error_2(queen_annes, error_2_qa)\n",
        "check_error(queen_annes, error_2_qa)"
      ],
      "attachments":{
        
      },
      "execution_count":162,
      "outputs":[
        {
          "name":"stdout",
          "text":[
            "Error found: 585 rows \n",
            "\n",
            "Error found: 6854 rows \n",
            "\n",
            "Error found: 27742 rows \n",
            "\n"
          ],
          "output_type":"stream"
        }
      ],
      "metadata":{
        
      }
    },
    {
      "cell_type":"code",
      "source":[
        "# Memeriksa apakah terdapat durasi parkir yang bernilai 0 ketika kendaraan keluar\n",
        "error_3_gw = []\n",
        "find_error_3(grafton_west, error_3_gw)\n",
        "check_error(grafton_west, error_3_gw)\n",
        "\n",
        "error_3_ps = []\n",
        "find_error_3(park_street, error_3_ps)\n",
        "check_error(park_street, error_3_ps)\n",
        "\n",
        "error_3_qa = []\n",
        "find_error_3(queen_annes, error_3_qa)\n",
        "check_error(queen_annes, error_3_qa)"
      ],
      "attachments":{
        
      },
      "execution_count":163,
      "outputs":[
        {
          "name":"stdout",
          "text":[
            "No error found \n",
            "\n",
            "No error found \n",
            "\n",
            "No error found \n",
            "\n"
          ],
          "output_type":"stream"
        }
      ],
      "metadata":{
        
      }
    },
    {
      "cell_type":"code",
      "source":[
        "# Membuang setiap baris yang invalid\n",
        "grafton_west = grafton_west.drop(error_2_gw)\n",
        "park_street = park_street.drop(error_2_ps)\n",
        "queen_annes = queen_annes.drop(error_2_qa)"
      ],
      "attachments":{
        
      },
      "execution_count":164,
      "outputs":[
        
      ],
      "metadata":{
        
      }
    },
    {
      "cell_type":"code",
      "source":[
        "# Untuk dapat menghitung rata-rata dan standar deviasinya maka digunakan\n",
        "# baris yang data durasi parkirnya tidak 0 \n",
        "grafton_west_wo_0 = grafton_west[grafton_west.iloc[:,2] != 0]\n",
        "park_street_wo_0 = park_street[park_street.iloc[:,2] != 0]\n",
        "queen_annes_wo_0 = queen_annes[queen_annes.iloc[:,2] != 0]"
      ],
      "attachments":{
        
      },
      "execution_count":165,
      "outputs":[
        
      ],
      "metadata":{
        
      }
    },
    {
      "cell_type":"code",
      "source":[
        "# Menggabungkan ketiga dataset menjadi sebuah dataframe\n",
        "merged_df = pd.concat([grafton_west_wo_0, park_street_wo_0, queen_annes_wo_0], ignore_index=True)"
      ],
      "attachments":{
        
      },
      "execution_count":166,
      "outputs":[
        
      ],
      "metadata":{
        
      }
    },
    {
      "cell_type":"markdown",
      "source":[
        "## Central Limit Theorem"
      ],
      "attachments":{
        
      },
      "metadata":{
        
      }
    },
    {
      "cell_type":"markdown",
      "source":[
        "Central Limit Theorem digunakan untuk memastikan bahwa dengan sampel yang ada, kita dapat mengestimasikan nilai populasi. Disini akan dibuktikan bahwa semakin banyak data, semakin kecil error pada estimasi. Oleh karena itu, kami memakai semua sampel yang ada untuk perhitungan agar perhitungan nilai rata-rata dan standar deviasi populasi semakin akurat."
      ],
      "attachments":{
        
      },
      "metadata":{
        
      }
    },
    {
      "cell_type":"code",
      "source":[
        "# Akan diambil beberapa jumlah sampel, lalu menampilkannya ke dalam bentuk grafik\n",
        "# Hal ini bertujuan untuk menunjukkan bahwa semakin banyak sampel yang diambil\n",
        "# maka bentuk grafik akan terus menjadi lebih mirip dengan grafik dari data populasi\n",
        "\n",
        "import numpy as np\n",
        "import seaborn as sns\n",
        "\n",
        "# Jumlah sampel-sampel yang akan dilihat distribusinya\n",
        "n = np.array([5, 25, 125, 625, 3125, round((len(merged_df)\/4)), round((len(merged_df)\/2)), len(merged_df)])\n",
        "\n",
        "# Mengatur data yang akan divisualisasikan\n",
        "for i in range(0,len(n)):\n",
        "    num_sample = n[i]\n",
        "    if i == 0:\n",
        "        # generate data sampel berdasarkan jumlah yang diinginkan\n",
        "        dum_data_init = merged_df.sample(n = num_sample, replace = False)\n",
        "        dum_data_init['num_sample'] = num_sample\n",
        "    else:\n",
        "        dum_data = merged_df.sample(n = num_sample, replace = False)\n",
        "        dum_data['num_sample'] = num_sample\n",
        "        dum_data_init = dum_data_init.append(dum_data)\n",
        "\n",
        "# data ini akan digunakan untuk memvisualisasikan central limit theorem\n",
        "dum_data_init.head()\n",
        "\n",
        "random_index = dum_data_init.num_sample.value_counts().index\n",
        "g = sns.FacetGrid(dum_data_init, row=\"num_sample\", row_order=random_index,\n",
        "                height=2, aspect=6,)\n",
        "g.map(sns.distplot, \"Parking Duration\")"
      ],
      "attachments":{
        
      },
      "execution_count":167,
      "outputs":[
        {
          "data":{
            "text\/plain":[
              "<seaborn.axisgrid.FacetGrid at 0x7f6c6f613550>"
            ],
            "image\/png":"[encoded data removed]"
          },
          "metadata":{
            "image\/png":{
              "width":0,
              "height":0
            }
          },
          "output_type":"display_data"
        }
      ],
      "metadata":{
        
      }
    },
    {
      "cell_type":"code",
      "source":[
        "# Akan diambil beberapa jumlah sampel, lalu menghitung rata-rata dan standar deviasinya\n",
        "# Hal ini bertujuan untuk membuktikan bahwa semakin banyak data yang diperolah maka\n",
        "# jarak antara batas bawah dengan batas atas dari baik estimasi rataan maupun standar deviasi\n",
        "# akan semakin kecil sehingga dapat disimpulkan bahwa data sampel yang ada sebenarnya\n",
        "# sudah dapat merepresentasikan baik rataan maupun standar deviasi dari data populasi\n",
        "\n",
        "import matplotlib.pyplot as plt\n",
        "import math\n",
        "from scipy.stats import t\n",
        "from scipy.stats import chi2\n",
        "\n",
        "# Fungsi untuk mengkuadratkan suatu bilangan, lalu menambahkannya dengan bilangan lain\n",
        "# yang juga sudah dikuadratkan\n",
        "def sum_and_square(data):\n",
        "    total = 0\n",
        "    for i in data:\n",
        "        total += i ** 2\n",
        "    return total\n",
        "\n",
        "# Jumlah sampel-sampel yang akan dilihat distribusinya\n",
        "n = np.array([5, 25, 125, 625, 3125, round((len(merged_df) \/ 4)), round((len(merged_df) \/ 2)), len(merged_df)])\n",
        "y1 = np.array([])\n",
        "y2 = np.array([])\n",
        "\n",
        "# Mengatur data yang akan divisualisasikan\n",
        "for i in range(0, len(n)):\n",
        "    num_sample = n[i]\n",
        "    if i == 0:\n",
        "        # generate data sampel berdasarkan jumlah yang diinginkan\n",
        "        dum_data_init = merged_df.sample(n=num_sample, replace=False)\n",
        "        dum_data_init['num_sample'] = num_sample\n",
        "    else:\n",
        "        dum_data = merged_df.sample(n=num_sample, replace=False)\n",
        "        dum_data['num_sample'] = num_sample\n",
        "        dum_data_init = dum_data_init.append(dum_data)\n",
        "\n",
        "    # Sampel yang digunakan\n",
        "    sample_merged_df = dum_data_init[\"Parking Duration\"]\n",
        "\n",
        "    # Rataan sampel\n",
        "    mean_sample_mdf = sample_merged_df.mean()\n",
        "\n",
        "    # Standar deviasi sampel\n",
        "    std_sample_mdf = sample_merged_df.std()\n",
        "\n",
        "    # Degree of freedom atau derajat kebebasan\n",
        "    dof_mdf = len(sample_merged_df) - 1\n",
        "\n",
        "    # Mencari t-value\n",
        "    p_batas_atas = (1 - 0.01) + ((1 - (1 - 0.01)) \/ 2)  # => batas atas dari tingkat selang kepercayaan sebesar 99%\n",
        "    p_batas_bawah = (1 - (1 - 0.01)) \/ 2  # => batas bawah dari tingkat selang kepercayaan sebesar 99%\n",
        "\n",
        "    t_val_bawah_mdf = t.ppf(p_batas_bawah, dof_mdf)\n",
        "    t_val_atas_mdf = t.ppf(p_batas_atas, dof_mdf)\n",
        "\n",
        "    t_val_mdf_test = t_val_atas_mdf = abs(t_val_bawah_mdf)\n",
        "\n",
        "    # Estimasi rataan \n",
        "    moe_mdf = t_val_mdf_test * std_sample_mdf \/ math.sqrt(len(sample_merged_df))\n",
        "\n",
        "    print('Jumlah sampel', num_sample)\n",
        "\n",
        "    # Menghitung selang tingkat kepercayaan points untuk nilai tingkat kepercayaan 99%\n",
        "    print('Batas selang tingkat kepercayaan:', format(mean_sample_mdf - moe_mdf, '.4f'), '< \\u03BC <',\n",
        "          format(mean_sample_mdf + moe_mdf, '.4f'))\n",
        "    y1 = np.append(y1, moe_mdf)\n",
        "\n",
        "    chi_val_bawah_mdf = chi2.ppf(p_batas_bawah, dof_mdf)\n",
        "    chi_val_atas_mdf = chi2.ppf(p_batas_atas, dof_mdf)\n",
        "\n",
        "    # Menghitung estimasi standar deviasi menggunakan distribusi chi-squared, yaitu di mana diasumsikan  \n",
        "    # bahwa standar deviasi populasi tidak diketahui sehingga variansi populasi juga tidak diketahui      \n",
        "    var_populasi2_mdf = (len(sample_merged_df) * sum_and_square(sample_merged_df) - (sum(sample_merged_df)) ** 2) \/ (\n",
        "                len(sample_merged_df) * dof_mdf)\n",
        "    \n",
        "    print('Estimasi standar deviasi populasi kota Cambridge (\\u03C3):',\n",
        "        format((dof_mdf * var_populasi2_mdf\/chi_val_atas_mdf)**0.5, '.4f') , '< \\u03C3 <',\n",
        "        format((dof_mdf * var_populasi2_mdf\/chi_val_bawah_mdf)**0.5, '.4f'))    \n",
        "    print(\"\")\n",
        "    y2 = np.append(y2, ((dof_mdf * var_populasi2_mdf\/chi_val_bawah_mdf)**(0.5) - \n",
        "     (dof_mdf * var_populasi2_mdf\/chi_val_atas_mdf)**(0.5))\/2)\n",
        "\n",
        "# Memvisualisasikan data\n",
        "fig, ax = plt.subplots()\n",
        "ax.plot(n, y1, marker=\"D\", linestyle='dashed', markersize=10)\n",
        "ax.set_xlabel(\"Jumlah Data Sampel\")\n",
        "ax.set_ylabel(\"Margin of Error for Mean\")\n",
        "\n",
        "fig, zx = plt.subplots()\n",
        "zx.plot(n, y2, marker=\"D\", linestyle='dashed', markersize=10)\n",
        "zx.set_xlabel(\"Jumlah Data Sampel\")\n",
        "zx.set_ylabel(\"Margin of Error for Standard Deviation\")"
      ],
      "attachments":{
        
      },
      "execution_count":168,
      "outputs":[
        {
          "name":"stdout",
          "text":[
            "Jumlah sampel 5\n",
            "Batas selang tingkat kepercayaan: -6.8147 < μ < 227.2147\n",
            "Estimasi standar deviasi populasi kota Cambridge (σ): 29.4848 < σ < 249.8258\n",
            "\n",
            "Jumlah sampel 25\n",
            "Batas selang tingkat kepercayaan: 117.0586 < μ < 236.6748\n",
            "Estimasi standar deviasi populasi kota Cambridge (σ): 88.4669 < σ < 176.6826\n",
            "\n",
            "Jumlah sampel 125\n",
            "Batas selang tingkat kepercayaan: 130.4717 < μ < 184.9993\n",
            "Estimasi standar deviasi populasi kota Cambridge (σ): 113.3673 < σ < 152.2328\n",
            "\n",
            "Jumlah sampel 625\n",
            "Batas selang tingkat kepercayaan: 144.5717 < μ < 167.8155\n",
            "Estimasi standar deviasi populasi kota Cambridge (σ): 117.9725 < σ < 134.4343\n",
            "\n",
            "Jumlah sampel 3125\n",
            "Batas selang tingkat kepercayaan: 147.2291 < μ < 161.2523\n",
            "Estimasi standar deviasi populasi kota Cambridge (σ): 165.1941 < σ < 175.1131\n",
            "\n",
            "Jumlah sampel 77904\n",
            "Batas selang tingkat kepercayaan: 152.7889 < μ < 156.9207\n",
            "Estimasi standar deviasi populasi kota Cambridge (σ): 227.9466 < σ < 230.8684\n",
            "\n",
            "Jumlah sampel 155807\n",
            "Batas selang tingkat kepercayaan: 153.6509 < μ < 156.0943\n",
            "Estimasi standar deviasi populasi kota Cambridge (σ): 230.3312 < σ < 232.0589\n",
            "\n",
            "Jumlah sampel 311614\n",
            "Batas selang tingkat kepercayaan: 154.0053 < μ < 155.5925\n",
            "Estimasi standar deviasi populasi kota Cambridge (σ): 227.7720 < σ < 228.8943\n",
            "\n"
          ],
          "output_type":"stream"
        },
        {
          "data":{
            "text\/plain":[
              "Text(0, 0.5, 'Margin of Error for Standard Deviation')"
            ],
            "image\/png":"[encoded data removed]"
          },
          "metadata":{
            "image\/png":{
              "width":0,
              "height":0
            }
          },
          "output_type":"display_data"
        }
      ],
      "metadata":{
        
      }
    },
    {
      "cell_type":"markdown",
      "source":[
        "\n",
        "## Estimasi Rataan, Standar Deviasi, dan Variansi\n",
        "#### Mengingat data yang digunakan adalah data sampel maka yang sangat mungkin diketahui adalah nilai dari rataan dan standar deviasi sampel\n",
        "#### Jadi, untuk mengestimasi rataan atau pun standar deviasi populasi maka diperlukan distribusi t-squared (digunakan ketika standar deviasi tidak diketahui)"
      ],
      "attachments":{
        
      },
      "metadata":{
        
      }
    },
    {
      "cell_type":"code",
      "source":[
        "# Data gabungan\n",
        "sample_merged_df = merged_df[\"Parking Duration\"]\n",
        "mean_sample_mdf = sample_merged_df.mean()\n",
        "std_sample_mdf = sample_merged_df.std()\n",
        "dof_mdf = len(sample_merged_df) - 1\n",
        "\n",
        "# Menghitung t-value\n",
        "p_batas_atas = (1 - 0.01) + ((1 - (1 - 0.01)) \/ 2)  # => batas atas dari tingkat selang kepercayaan sebesar 99%\n",
        "p_batas_bawah = (1 - (1 - 0.01)) \/ 2  # => batas bawah dari tingkat selang kepercayaan sebesar 99%\n",
        "\n",
        "t_val_bawah_mdf = t.ppf(p_batas_bawah, dof_mdf)\n",
        "t_val_atas_mdf = t.ppf(p_batas_atas, dof_mdf)\n",
        "\n",
        "t_val_mdf = t_val_atas_mdf = abs(t_val_bawah_mdf)\n",
        "\n",
        "# Estimasi rataan \n",
        "moe_mdf = t_val_mdf * std_sample_mdf \/ math.sqrt(len(sample_merged_df))\n",
        "\n",
        "# Rataan sample\n",
        "print(\"Rata-rata keseluruhan sampel:\", format(mean_sample_mdf, '.4f'))\n",
        "print(\"\")\n",
        "\n",
        "# Lalu, untuk menghitung standar deviasinya, dapat di asumsikan bahwa standar deviasi sampel adalah\n",
        "# standar deviasi populasi karena jumlah data sampelnya yang sudah melebihi tiga puluh data\n",
        "print(\"Standar deviasi keseluruhan sampel:\", format(std_sample_mdf, '.4f'))\n",
        "print(\"\")\n",
        "\n",
        "# Menghitung selang tingkat kepercayaan points untuk nilai tingkat kepercayaan 99%\n",
        "print(\"Estimasi rata-rata populasi kota Cambridge (\\u03BC):\",\n",
        "      format(mean_sample_mdf - moe_mdf, '.4f'), '< \\u03BC <', format(mean_sample_mdf + moe_mdf, '.4f'))\n",
        "print(\"\")"
      ],
      "attachments":{
        
      },
      "execution_count":169,
      "outputs":[
        {
          "name":"stdout",
          "text":[
            "Rata-rata keseluruhan sampel: 154.7427\n",
            "\n",
            "Standar deviasi keseluruhan sampel: 226.1269\n",
            "\n",
            "Estimasi rata-rata populasi kota Cambridge (μ): 153.6993 < μ < 155.7862\n",
            "\n"
          ],
          "output_type":"stream"
        }
      ],
      "metadata":{
        
      }
    },
    {
      "cell_type":"code",
      "source":[
        "# Digunakan distribusi chi-squared untuk menghitung variansi karena data yang ada\n",
        "# merupakan data sampel\n",
        "\n",
        "chi_val_bawah_mdf = chi2.ppf(p_batas_bawah, dof_mdf)\n",
        "chi_val_atas_mdf = chi2.ppf(p_batas_atas, dof_mdf)\n",
        "\n",
        "# Fungsi untuk mengkuadratkan suatu bilangan, lalu menambahkannya dengan bilangan lain\n",
        "# yang juga sudah dikuadratkan\n",
        "def sum_and_square(data):\n",
        "    total = 0\n",
        "    for i in data:\n",
        "        total += i ** 2\n",
        "    return total\n",
        "\n",
        "# Menghitung estimasi standar deviasi menggunakan distribusi chi-squared, yaitu di mana diasumsikan  \n",
        "# bahwa standar deviasi populasi tidak diketahui sehingga variansi populasi juga tidak diketahui     \n",
        "var_populasi2_mdf = (len(sample_merged_df) * sum_and_square(sample_merged_df) - (sum(sample_merged_df)) ** 2) \/ (\n",
        "            len(sample_merged_df) * dof_mdf)\n",
        "\n",
        "print('Estimasi variansi populasi kota Cambridge (\\u03C3\\N{SUPERSCRIPT TWO}):',\n",
        "      format(dof_mdf * var_populasi2_mdf\/chi_val_atas_mdf, '.4f'), '< \\u03C3\\N{SUPERSCRIPT TWO} <',\n",
        "      format(dof_mdf * var_populasi2_mdf\/chi_val_bawah_mdf, '.4f'))\n",
        "print(\"\")\n",
        "\n",
        "print('Estimasi standar deviasi populasi kota Cambridge (\\u03C3):',\n",
        "      format((dof_mdf * var_populasi2_mdf\/chi_val_atas_mdf)**0.5, '.4f') , '< \\u03C3 <',\n",
        "       format((dof_mdf * var_populasi2_mdf\/chi_val_bawah_mdf)**0.5, '.4f'))    "
      ],
      "attachments":{
        
      },
      "execution_count":170,
      "outputs":[
        {
          "name":"stdout",
          "text":[
            "Estimasi variansi populasi kota Cambridge (σ²): 50801.2677 < σ² < 51468.6380\n",
            "\n",
            "Estimasi standar deviasi populasi kota Cambridge (σ): 225.3914 < σ < 226.8670\n"
          ],
          "output_type":"stream"
        }
      ],
      "metadata":{
        
      }
    },
    {
      "cell_type":"markdown",
      "source":[
        "## Visualisasi Data"
      ],
      "attachments":{
        
      },
      "metadata":{
        
      }
    },
    {
      "cell_type":"code",
      "source":[
        "# Memvisualisasikan data gabungan\n",
        "plt.rcParams['figure.figsize'] = (11, 6)\n",
        "plt.style.use('fivethirtyeight')\n",
        "\n",
        "plt.xticks(rotation=30)\n",
        "sns.distplot(sample_merged_df)\n",
        "plt.title('Distribution of Parking Duration in Cambridge')\n",
        "\n",
        "plt.show()"
      ],
      "attachments":{
        
      },
      "execution_count":171,
      "outputs":[
        {
          "data":{
            "image\/png":"[encoded data removed]"
          },
          "metadata":{
            "image\/png":{
              "width":0,
              "height":0
            }
          },
          "output_type":"display_data"
        }
      ],
      "metadata":{
        
      }
    },
    {
      "cell_type":"markdown",
      "source":[
        "## Laporan Singkat\n",
        "Pertama, kita read ketiga dataset. Karena kolom \"Parking Duration\" bertipe object, maka dikonversi menjadi tipe integer. Kemudian kami memastikan 3 kondisi yang berlaku (seperti saat kolom \"entries\" bernilai 1 maka kolom \"exit\" harus bernilai 0 dan sebaliknya, dll) dengan membuat fungsi pengecekan. Kita dapatkan hasilnya bahwa hanya terdapat error jenis kedua, yaitu saat entry bernilai 1 dan durasi parkir tidak bernilai 0. Error ini terdapat pada ketiga dataset. Dataset dengan error paling sedikit adalah dataset Grafton West (585 data) dan paling banyak adalah dataset Queen Annes (27742 data). Setelah kita dapatkan baris yang memiliki error, baris tersebut akan kita drop. Baris yang memiliki durasi parkir 0 juga akan dihapus. Kemudian kita plotting untuk membuat visualisasinya.\n",
        "\n",
        "Setelah selesai menyiapkan dataset, kita akan menggabungkan ketiga dataset menjadi satu dataset. Kita gabungkan karena kita ingin menarik kesimpulan secara keseluruhan (se-kota Cambridge). Kemudian kita mulai proses inferensi statistika. Kita tetapkan jumlah sampel berjumlah 5, 25, 125, 625, dan 3125. Setelah generate data sampel sesuai masing-masing jumlah sampel, maka kita akan memvisualisasikan Central Limit Theorem. Kemudian kita akan estimasi rataan, standar deviasi, dan variansinya. Karena jumlah sampel sudah melebihi 30 data, maka standar deviasi sampel adalah standar deviasi populasi, kita menggunakan distribusi T-student. Kita dapatkan hasilnya seperti demikian:\n",
        "\n",
        "Rata-rata sample durasi parkir kota Cambridge: 154.7427<br>\n",
        "\n",
        "Standar deviasi populasi durasi parkir kota Cambridge: 226.1269<br>\n",
        "\n",
        "Estimasi rata-rata populasi durasi parkir Kota Cambridge: 153.5718 < rata-rata populasi kota Cambridge < 155.6272 <br>\n",
        "\n",
        "Estimasi variansi populasi durasi parkir Kota Cambridge: 50801.2677 < variansi populasi kota Cambridge < 51468.6380<br>\n",
        "\n",
        "Estimasi standar deviasi populasi durasi parkir Kota Cambridge: 225.3914 < standar deviasi populasi kota Cambridge < 226.8670<br>"
      ],
      "attachments":{
        
      },
      "metadata":{
        
      }
    },
    {
      "cell_type":"markdown",
      "source":[
        "## Pertanyaan Diskusi"
      ],
      "attachments":{
        
      },
      "metadata":{
        
      }
    },
    {
      "cell_type":"markdown",
      "source":[
        "### Nomor 1\n",
        "Berikan ulasan mengenai pola perilaku nilai rata-rata dan standar deviasi \n",
        "dari durasi parkir kota Cambridge secara keseluruhan. Berikan penafsiran \n",
        "terhadap hal ini."
      ],
      "attachments":{
        
      },
      "metadata":{
        
      }
    },
    {
      "cell_type":"code",
      "source":[
        "# Mencari rataan, estimasi rataan, standar deviasi, dan estimasi standar deviasi\n",
        "# yang bertujuan untuk mengetahui perilaku dari data \"Parking Duration\" di data gabungan\n",
        "\n",
        "print(\"Rata-rata keseluruhan sampel:\", format(mean_sample_mdf, '.4f'))\n",
        "print(\"\")\n",
        "print(\"Standar deviasi keseluruhan sampel:\", format(std_sample_mdf, '.4f'))\n",
        "print(\"\")\n",
        "print(\"Estimasi rata-rata populasi kota Cambridge (\\u03BC):\",\n",
        "      format(mean_sample_mdf - moe_mdf, '.4f'), '< \\u03BC <', format(mean_sample_mdf + moe_mdf, '.4f'))\n",
        "print(\"\")\n",
        "print('Estimasi standar deviasi populasi kota Cambridge (\\u03C3):',\n",
        "      format((dof_mdf * var_populasi2_mdf\/chi_val_atas_mdf)**0.5, '.4f') , '< \\u03C3 <',\n",
        "       format((dof_mdf * var_populasi2_mdf\/chi_val_bawah_mdf)**0.5, '.4f'))"
      ],
      "attachments":{
        
      },
      "execution_count":172,
      "outputs":[
        {
          "name":"stdout",
          "text":[
            "Rata-rata keseluruhan sampel: 154.7427\n",
            "\n",
            "Standar deviasi keseluruhan sampel: 226.1269\n",
            "\n",
            "Estimasi rata-rata populasi kota Cambridge (μ): 153.6993 < μ < 155.7862\n",
            "\n",
            "Estimasi standar deviasi populasi kota Cambridge (σ): 225.3914 < σ < 226.8670\n"
          ],
          "output_type":"stream"
        }
      ],
      "metadata":{
        
      }
    },
    {
      "cell_type":"code",
      "source":[
        "# Memvisualisasikan data \"Parking Duration\" di data gabungan\n",
        "merged_df[\"Parking Duration\"].plot(kind=\"kde\", color=\"green\")\n",
        "\n",
        "plt.xlim([0,800])\n",
        "plt.xlabel(\"Parking Duration (minutes)\")\n",
        "plt.legend()"
      ],
      "attachments":{
        
      },
      "execution_count":173,
      "outputs":[
        {
          "data":{
            "text\/plain":[
              "<matplotlib.legend.Legend at 0x7f6c6da13ca0>"
            ],
            "image\/png":"[encoded data removed]"
          },
          "metadata":{
            "image\/png":{
              "width":0,
              "height":0
            }
          },
          "output_type":"display_data"
        }
      ],
      "metadata":{
        
      }
    },
    {
      "cell_type":"markdown",
      "source":[
        "#### Kesimpulan\n",
        "\n",
        "Jadi, berdasarkan hasil perhitungan statistika di atas, didapati bahwa estimasi rata-rata durasi parkir kota Cambridge berada di antara 153-155 menit. Kita mendapatkan juga nilai estimasi standar deviasi yang besar, yaitu 225-226 menit sehingga dapat dikatakan bahwa durasi parkir kota Cambridge sangat bervariasi. Berdasarkan grafik juga didapati bahwa terdapat sejumlah aktivitas parkir kendaraan yang durasi parkirnya sangat lama (melebihi rata-rata + 1 standar deviasi).\n",
        "\n",
        "Lalu, apakah ini sudah dapat merepresentasikan perilaku rataan dan standar deviasi dari keseluruhan data di kota Cambridge? Jawabannya adalah sudah. Sebelumnya juga sudah ditampilkan atau ditunjukkan bahwa semakin banyak data sampel yang ada maka jarak antara batas bawah dan batas atas suatu estimasi baik rataan maupun standar deviasi maka akan semakin kecil jaraknya sehingga rataan dan standar deviasi dari data sampel yang digunakan sudah dapat merepresentasikan rataan dan standar deviasi data populasi."
      ],
      "attachments":{
        
      },
      "metadata":{
        
      }
    },
    {
      "cell_type":"markdown",
      "source":[
        "### Nomor 2\n",
        "Pemkot mengasumsikan bahwa pengguna lahan parkir tergolong **‘bermasalah‘ jika ia parkir terlalu lama, yaitu lebih dari 8 jam**. Berikan inferensi statistika untuk persentase banyaknya pengguna bermasalah di kota Cambridge secara keseluruhan."
      ],
      "attachments":{
        
      },
      "metadata":{
        
      }
    },
    {
      "cell_type":"code",
      "source":[
        "# Mengkonversi nilai dari data-data yang ada di \"Parking Duarion\" dari dalam satuan menit\n",
        "# menjadi dalam satuan jam\n",
        "\n",
        "merged_df['Parking Duration in Hour'] = merged_df['Parking Duration']\/60\n",
        "merged_df.head(10)"
      ],
      "attachments":{
        
      },
      "execution_count":174,
      "outputs":[
        {
          "data":{
            "text\/html":[
              "<div>\n",
              "<style scoped>\n",
              "    .dataframe tbody tr th:only-of-type {\n",
              "        vertical-align: middle;\n",
              "    }\n",
              "\n",
              "    .dataframe tbody tr th {\n",
              "        vertical-align: top;\n",
              "    }\n",
              "\n",
              "    .dataframe thead th {\n",
              "        text-align: right;\n",
              "    }\n",
              "<\/style>\n",
              "<table border=\"1\" class=\"dataframe\">\n",
              "  <thead>\n",
              "    <tr style=\"text-align: right;\">\n",
              "      <th><\/th>\n",
              "      <th>Entries<\/th>\n",
              "      <th>Exits<\/th>\n",
              "      <th>Parking Duration<\/th>\n",
              "      <th>Parking Duration in Hour<\/th>\n",
              "    <\/tr>\n",
              "  <\/thead>\n",
              "  <tbody>\n",
              "    <tr>\n",
              "      <th>0<\/th>\n",
              "      <td>0<\/td>\n",
              "      <td>1<\/td>\n",
              "      <td>362<\/td>\n",
              "      <td>6.033333<\/td>\n",
              "    <\/tr>\n",
              "    <tr>\n",
              "      <th>1<\/th>\n",
              "      <td>0<\/td>\n",
              "      <td>1<\/td>\n",
              "      <td>245<\/td>\n",
              "      <td>4.083333<\/td>\n",
              "    <\/tr>\n",
              "    <tr>\n",
              "      <th>2<\/th>\n",
              "      <td>0<\/td>\n",
              "      <td>1<\/td>\n",
              "      <td>17<\/td>\n",
              "      <td>0.283333<\/td>\n",
              "    <\/tr>\n",
              "    <tr>\n",
              "      <th>3<\/th>\n",
              "      <td>0<\/td>\n",
              "      <td>1<\/td>\n",
              "      <td>45<\/td>\n",
              "      <td>0.750000<\/td>\n",
              "    <\/tr>\n",
              "    <tr>\n",
              "      <th>4<\/th>\n",
              "      <td>0<\/td>\n",
              "      <td>1<\/td>\n",
              "      <td>47<\/td>\n",
              "      <td>0.783333<\/td>\n",
              "    <\/tr>\n",
              "    <tr>\n",
              "      <th>5<\/th>\n",
              "      <td>0<\/td>\n",
              "      <td>1<\/td>\n",
              "      <td>1102<\/td>\n",
              "      <td>18.366667<\/td>\n",
              "    <\/tr>\n",
              "    <tr>\n",
              "      <th>6<\/th>\n",
              "      <td>0<\/td>\n",
              "      <td>1<\/td>\n",
              "      <td>55<\/td>\n",
              "      <td>0.916667<\/td>\n",
              "    <\/tr>\n",
              "    <tr>\n",
              "      <th>7<\/th>\n",
              "      <td>0<\/td>\n",
              "      <td>1<\/td>\n",
              "      <td>84<\/td>\n",
              "      <td>1.400000<\/td>\n",
              "    <\/tr>\n",
              "    <tr>\n",
              "      <th>8<\/th>\n",
              "      <td>0<\/td>\n",
              "      <td>1<\/td>\n",
              "      <td>81<\/td>\n",
              "      <td>1.350000<\/td>\n",
              "    <\/tr>\n",
              "    <tr>\n",
              "      <th>9<\/th>\n",
              "      <td>0<\/td>\n",
              "      <td>1<\/td>\n",
              "      <td>42<\/td>\n",
              "      <td>0.700000<\/td>\n",
              "    <\/tr>\n",
              "  <\/tbody>\n",
              "<\/table>\n",
              "<\/div>"
            ]
          },
          "metadata":{
            
          },
          "output_type":"display_data"
        }
      ],
      "metadata":{
        
      }
    },
    {
      "cell_type":"code",
      "source":[
        "# Memilah data \"Parking Duration in Hour\", dengan mengambil yang lebih dari sama dengan \n",
        "# delapan jam, lalu menyimpannya ke dalam suatu variabel\n",
        "\n",
        "df_more_than_8_hours = merged_df[(merged_df['Parking Duration in Hour'] >= 8)]\n",
        "df_more_than_8_hours"
      ],
      "attachments":{
        
      },
      "execution_count":175,
      "outputs":[
        {
          "data":{
            "text\/html":[
              "<div>\n",
              "<style scoped>\n",
              "    .dataframe tbody tr th:only-of-type {\n",
              "        vertical-align: middle;\n",
              "    }\n",
              "\n",
              "    .dataframe tbody tr th {\n",
              "        vertical-align: top;\n",
              "    }\n",
              "\n",
              "    .dataframe thead th {\n",
              "        text-align: right;\n",
              "    }\n",
              "<\/style>\n",
              "<table border=\"1\" class=\"dataframe\">\n",
              "  <thead>\n",
              "    <tr style=\"text-align: right;\">\n",
              "      <th><\/th>\n",
              "      <th>Entries<\/th>\n",
              "      <th>Exits<\/th>\n",
              "      <th>Parking Duration<\/th>\n",
              "      <th>Parking Duration in Hour<\/th>\n",
              "    <\/tr>\n",
              "  <\/thead>\n",
              "  <tbody>\n",
              "    <tr>\n",
              "      <th>5<\/th>\n",
              "      <td>0<\/td>\n",
              "      <td>1<\/td>\n",
              "      <td>1102<\/td>\n",
              "      <td>18.366667<\/td>\n",
              "    <\/tr>\n",
              "    <tr>\n",
              "      <th>1044<\/th>\n",
              "      <td>0<\/td>\n",
              "      <td>1<\/td>\n",
              "      <td>634<\/td>\n",
              "      <td>10.566667<\/td>\n",
              "    <\/tr>\n",
              "    <tr>\n",
              "      <th>1078<\/th>\n",
              "      <td>0<\/td>\n",
              "      <td>1<\/td>\n",
              "      <td>482<\/td>\n",
              "      <td>8.033333<\/td>\n",
              "    <\/tr>\n",
              "    <tr>\n",
              "      <th>1081<\/th>\n",
              "      <td>0<\/td>\n",
              "      <td>1<\/td>\n",
              "      <td>496<\/td>\n",
              "      <td>8.266667<\/td>\n",
              "    <\/tr>\n",
              "    <tr>\n",
              "      <th>1849<\/th>\n",
              "      <td>0<\/td>\n",
              "      <td>1<\/td>\n",
              "      <td>669<\/td>\n",
              "      <td>11.150000<\/td>\n",
              "    <\/tr>\n",
              "    <tr>\n",
              "      <th>...<\/th>\n",
              "      <td>...<\/td>\n",
              "      <td>...<\/td>\n",
              "      <td>...<\/td>\n",
              "      <td>...<\/td>\n",
              "    <\/tr>\n",
              "    <tr>\n",
              "      <th>311292<\/th>\n",
              "      <td>0<\/td>\n",
              "      <td>1<\/td>\n",
              "      <td>1437<\/td>\n",
              "      <td>23.950000<\/td>\n",
              "    <\/tr>\n",
              "    <tr>\n",
              "      <th>311301<\/th>\n",
              "      <td>0<\/td>\n",
              "      <td>1<\/td>\n",
              "      <td>614<\/td>\n",
              "      <td>10.233333<\/td>\n",
              "    <\/tr>\n",
              "    <tr>\n",
              "      <th>311439<\/th>\n",
              "      <td>0<\/td>\n",
              "      <td>1<\/td>\n",
              "      <td>5289<\/td>\n",
              "      <td>88.150000<\/td>\n",
              "    <\/tr>\n",
              "    <tr>\n",
              "      <th>311445<\/th>\n",
              "      <td>0<\/td>\n",
              "      <td>1<\/td>\n",
              "      <td>512<\/td>\n",
              "      <td>8.533333<\/td>\n",
              "    <\/tr>\n",
              "    <tr>\n",
              "      <th>311456<\/th>\n",
              "      <td>0<\/td>\n",
              "      <td>1<\/td>\n",
              "      <td>601<\/td>\n",
              "      <td>10.016667<\/td>\n",
              "    <\/tr>\n",
              "  <\/tbody>\n",
              "<\/table>\n",
              "<p>6515 rows × 4 columns<\/p>\n",
              "<\/div>"
            ]
          },
          "metadata":{
            
          },
          "output_type":"display_data"
        }
      ],
      "metadata":{
        
      }
    },
    {
      "cell_type":"code",
      "source":[
        "# Mencari nilai dalam satuan persen dari banyaknya data pengguna yang bermasalah\n",
        "# Lalu, sekali lagi karena data sudah dapat merepresentasikan data populasi\n",
        "# maka dapat dihitung atau diproses dengan data sampel tersebut\n",
        "print(\"Maka banyaknya pengguna lahan parkir yang bermasalah di kota Cambridge adalah:\",\n",
        "      format(len(df_more_than_8_hours)\/len(merged_df) * 100, '.4f'),\"%\")"
      ],
      "attachments":{
        
      },
      "execution_count":176,
      "outputs":[
        {
          "name":"stdout",
          "text":[
            "Maka banyaknya pengguna lahan parkir yang bermasalah di kota Cambridge adalah: 2.0907 %\n"
          ],
          "output_type":"stream"
        }
      ],
      "metadata":{
        
      }
    },
    {
      "cell_type":"code",
      "source":[
        "# Memvisualisasikan data\n",
        "merged_df['Parking Duration'].plot(kind='kde', color='maroon')\n",
        "plt.xlim([0,800])\n",
        "\n",
        "plt.xlabel(\"Parking Duration (minutes)\")\n",
        "plt.legend()"
      ],
      "attachments":{
        
      },
      "execution_count":177,
      "outputs":[
        {
          "data":{
            "text\/plain":[
              "<matplotlib.legend.Legend at 0x7f6c6d7675e0>"
            ],
            "image\/png":"[encoded data removed]"
          },
          "metadata":{
            "image\/png":{
              "width":0,
              "height":0
            }
          },
          "output_type":"display_data"
        }
      ],
      "metadata":{
        
      }
    },
    {
      "cell_type":"markdown",
      "source":[
        "### Kesimpulan\n",
        "\n",
        "Berdasarkan hasil perhitungan di atas, kami mendapatkan presentase pengguna lahan parkir yang bisa dikatakan **'bermasalah'** adalah sebesar 2.0907% dari keseluruhan sample kota Cambridge yang kami miliki. Argumen kami menggunakan cara tersebut yaitu karena data sample sudah dapat merepresentasikan data populasi. Untuk buktinya sudah dibuktikan sebelumnya, yaitu bahwa semakin banyak data sampel yang ada maka jarak antara batas bawah dan batas atas suatu estimasi baik rataan maupun standar deviasi maka akan semakin kecil jaraknya sehingga rataan dan standar deviasi dari data sampel yang digunakan sudah dapat merepresentasikan rataan dan standar deviasi data populasi."
      ],
      "attachments":{
        
      },
      "metadata":{
        
      }
    },
    {
      "cell_type":"markdown",
      "source":[
        "### Nomor 3\n",
        "Tarif parkir yang selama ini berlaku adalah sebesar 0.75 Poundsterling \n",
        "per jam, dengan tarif maksimum sebesar 6 Poundsterling. Artinya, tarif \n",
        "pengguna lahan setelah parkir 8 jam akan terus bersifat flat. Berikan \n",
        "estimasi rata-rata dan standar deviasi pendapatan Pemkot Cambridge \n",
        "untuk setiap sesi penggunaan lahan parkir secara keseluruhan di kota \n",
        "Cambridge."
      ],
      "attachments":{
        
      },
      "metadata":{
        
      }
    },
    {
      "cell_type":"code",
      "source":[
        "# Membuat kolom baru yang merupakan kolom data tarif kota Cambridge dari setiap pengguna parkir\n",
        "import math\n",
        "import numpy as np\n",
        "\n",
        "# Akan diasumsikan bahwa cara perhitungan tarif adalah berupa diskrit, yaitu di mana\n",
        "# setiap durasi parkir yang tidak bernilai bulat akan dibulatkan ke atas\n",
        "merged_df['Parking Duration Round Up'] = merged_df['Parking Duration in Hour'].apply(np.ceil)\n",
        "\n",
        "income = []\n",
        "for i in range(len(merged_df)):\n",
        "    cur = merged_df.iloc[i,-1]\n",
        "    if cur < 8:\n",
        "        income.append(cur*0.75)\n",
        "    else:\n",
        "        income.append(6)\n",
        "merged_df[\"Income (Poundsterling)\"] = pd.DataFrame(income)\n",
        "merged_df"
      ],
      "attachments":{
        
      },
      "execution_count":178,
      "outputs":[
        {
          "data":{
            "text\/html":[
              "<div>\n",
              "<style scoped>\n",
              "    .dataframe tbody tr th:only-of-type {\n",
              "        vertical-align: middle;\n",
              "    }\n",
              "\n",
              "    .dataframe tbody tr th {\n",
              "        vertical-align: top;\n",
              "    }\n",
              "\n",
              "    .dataframe thead th {\n",
              "        text-align: right;\n",
              "    }\n",
              "<\/style>\n",
              "<table border=\"1\" class=\"dataframe\">\n",
              "  <thead>\n",
              "    <tr style=\"text-align: right;\">\n",
              "      <th><\/th>\n",
              "      <th>Entries<\/th>\n",
              "      <th>Exits<\/th>\n",
              "      <th>Parking Duration<\/th>\n",
              "      <th>Parking Duration in Hour<\/th>\n",
              "      <th>Parking Duration Round Up<\/th>\n",
              "      <th>Income (Poundsterling)<\/th>\n",
              "    <\/tr>\n",
              "  <\/thead>\n",
              "  <tbody>\n",
              "    <tr>\n",
              "      <th>0<\/th>\n",
              "      <td>0<\/td>\n",
              "      <td>1<\/td>\n",
              "      <td>362<\/td>\n",
              "      <td>6.033333<\/td>\n",
              "      <td>7.0<\/td>\n",
              "      <td>5.25<\/td>\n",
              "    <\/tr>\n",
              "    <tr>\n",
              "      <th>1<\/th>\n",
              "      <td>0<\/td>\n",
              "      <td>1<\/td>\n",
              "      <td>245<\/td>\n",
              "      <td>4.083333<\/td>\n",
              "      <td>5.0<\/td>\n",
              "      <td>3.75<\/td>\n",
              "    <\/tr>\n",
              "    <tr>\n",
              "      <th>2<\/th>\n",
              "      <td>0<\/td>\n",
              "      <td>1<\/td>\n",
              "      <td>17<\/td>\n",
              "      <td>0.283333<\/td>\n",
              "      <td>1.0<\/td>\n",
              "      <td>0.75<\/td>\n",
              "    <\/tr>\n",
              "    <tr>\n",
              "      <th>3<\/th>\n",
              "      <td>0<\/td>\n",
              "      <td>1<\/td>\n",
              "      <td>45<\/td>\n",
              "      <td>0.750000<\/td>\n",
              "      <td>1.0<\/td>\n",
              "      <td>0.75<\/td>\n",
              "    <\/tr>\n",
              "    <tr>\n",
              "      <th>4<\/th>\n",
              "      <td>0<\/td>\n",
              "      <td>1<\/td>\n",
              "      <td>47<\/td>\n",
              "      <td>0.783333<\/td>\n",
              "      <td>1.0<\/td>\n",
              "      <td>0.75<\/td>\n",
              "    <\/tr>\n",
              "    <tr>\n",
              "      <th>...<\/th>\n",
              "      <td>...<\/td>\n",
              "      <td>...<\/td>\n",
              "      <td>...<\/td>\n",
              "      <td>...<\/td>\n",
              "      <td>...<\/td>\n",
              "      <td>...<\/td>\n",
              "    <\/tr>\n",
              "    <tr>\n",
              "      <th>311609<\/th>\n",
              "      <td>0<\/td>\n",
              "      <td>1<\/td>\n",
              "      <td>210<\/td>\n",
              "      <td>3.500000<\/td>\n",
              "      <td>4.0<\/td>\n",
              "      <td>3.00<\/td>\n",
              "    <\/tr>\n",
              "    <tr>\n",
              "      <th>311610<\/th>\n",
              "      <td>0<\/td>\n",
              "      <td>1<\/td>\n",
              "      <td>137<\/td>\n",
              "      <td>2.283333<\/td>\n",
              "      <td>3.0<\/td>\n",
              "      <td>2.25<\/td>\n",
              "    <\/tr>\n",
              "    <tr>\n",
              "      <th>311611<\/th>\n",
              "      <td>0<\/td>\n",
              "      <td>1<\/td>\n",
              "      <td>138<\/td>\n",
              "      <td>2.300000<\/td>\n",
              "      <td>3.0<\/td>\n",
              "      <td>2.25<\/td>\n",
              "    <\/tr>\n",
              "    <tr>\n",
              "      <th>311612<\/th>\n",
              "      <td>0<\/td>\n",
              "      <td>1<\/td>\n",
              "      <td>219<\/td>\n",
              "      <td>3.650000<\/td>\n",
              "      <td>4.0<\/td>\n",
              "      <td>3.00<\/td>\n",
              "    <\/tr>\n",
              "    <tr>\n",
              "      <th>311613<\/th>\n",
              "      <td>0<\/td>\n",
              "      <td>1<\/td>\n",
              "      <td>168<\/td>\n",
              "      <td>2.800000<\/td>\n",
              "      <td>3.0<\/td>\n",
              "      <td>2.25<\/td>\n",
              "    <\/tr>\n",
              "  <\/tbody>\n",
              "<\/table>\n",
              "<p>311614 rows × 6 columns<\/p>\n",
              "<\/div>"
            ]
          },
          "metadata":{
            
          },
          "output_type":"display_data"
        }
      ],
      "metadata":{
        
      }
    },
    {
      "cell_type":"code",
      "source":[
        "# Dengan memakai t-student maka akan dicari estimasi dari rataan dan juga standar deviasi\n",
        "# sehingga nantinya nilai estimasi dapat dibandingkan dengan nilai estimasi baik rataan maupun\n",
        "# maupun standar deviasi yang baru\n",
        "\n",
        "mean_sampel_income = merged_df[\"Income (Poundsterling)\"].mean()\n",
        "std_sampel_income = merged_df[\"Income (Poundsterling)\"].std()\n",
        "dof_income = len(merged_df[\"Income (Poundsterling)\"])-1\n",
        "\n",
        "# Mencari nilai t-value\n",
        "p_batas_atas = (1 - 0.01) + ((1 - (1 - 0.01)) \/ 2)  # => batas atas dari tingkat selang kepercayaan sebesar 99%\n",
        "p_batas_bawah = (1 - (1 - 0.01)) \/ 2  # => batas bawah dari tingkat selang kepercayaan sebesar 99%\n",
        "\n",
        "t_val_bawah_inc = t.ppf(p_batas_bawah, dof_income)\n",
        "t_val_atas_inc = t.ppf(p_batas_atas, dof_income)\n",
        "\n",
        "t_val_inc = t_val_atas_inc = abs(t_val_bawah_inc)\n",
        "\n",
        "# Margin of Error\n",
        "mof_inc = t_val_inc * std_sampel_income \/ math.sqrt(len(merged_df[\"Income (Poundsterling)\"]))\n",
        "\n",
        "# Menghitung selang tingkat kepercayaan points untuk nilai tingkat kepercayaan 99%\n",
        "print('Estimasi rata-rata pendapatan kota Cambridge (\\u03BC):', \n",
        "      format(mean_sampel_income - mof_inc, '.7f'), '£', '< \\u03BC <', format(mean_sampel_income + mof_inc, '.7f'), '£')\n",
        "print('')\n",
        "\n",
        "chi_val_bawah_inc = chi2.ppf(p_batas_bawah, dof_income)\n",
        "chi_val_atas_inc = chi2.ppf(p_batas_atas, dof_income)\n",
        "\n",
        "# Fungsi untuk mengkuadratkan suatu bilangan, lalu menambahkannya dengan bilangan lain\n",
        "# yang juga sudah dikuadratkan\n",
        "def sum_and_square(data):\n",
        "    total = 0\n",
        "    for i in data:\n",
        "        total += i ** 2\n",
        "    return total\n",
        "\n",
        "# Menghitung estimasi standar deviasi menggunakan distribusi chi-squared, yaitu di mana diasumsikan  \n",
        "# bahwa standar deviasi populasi tidak diketahui sehingga variansi populasi juga tidak diketahui  \n",
        "var_populasi2_inc = (len(merged_df[\"Income (Poundsterling)\"]) * sum_and_square(merged_df[\"Income (Poundsterling)\"])-\n",
        " (sum(merged_df[\"Income (Poundsterling)\"])) ** 2) \/(len(merged_df[\"Income (Poundsterling)\"]) * dof_income)\n",
        "\n",
        "print('Estimasi standar deviasi pendapatan kota Cambridge (\\u03C3):',\n",
        "      format((dof_income * var_populasi2_inc\/chi_val_atas_inc)**0.5, '.7f'),\"£\" , '< \\u03C3 <',\n",
        "        format((dof_income * var_populasi2_inc\/chi_val_bawah_inc)**0.5,'.7f'),\"£\")"
      ],
      "attachments":{
        
      },
      "execution_count":179,
      "outputs":[
        {
          "name":"stdout",
          "text":[
            "Estimasi rata-rata pendapatan kota Cambridge (μ): 2.1768668 £ < μ < 2.1882211 £\n",
            "\n",
            "Estimasi standar deviasi pendapatan kota Cambridge (σ): 1.2263177 £ < σ < 1.2343464 £\n"
          ],
          "output_type":"stream"
        }
      ],
      "metadata":{
        
      }
    },
    {
      "cell_type":"code",
      "source":[
        "# Memvisualisasikan data\n",
        "merged_df[\"Income (Poundsterling)\"].plot(kind='kde', color='red')\n",
        "plt.xlabel(\"Income (Poundsterling)\")\n",
        "plt.xlim([0,6])\n",
        "plt.legend()\n",
        "\n",
        "# Dapat diketahui bahwa ternyata kebanyakan pendapatan kota Cambridge pada jasa parkir\n",
        "# adalah dari pengguna parkir yang parkir dengan durasi parkir dari 1 jam (0.75 Poundsterling)\n",
        "# sampai dengan 2.5 jam (+- 1.8 Poundsterling)"
      ],
      "attachments":{
        
      },
      "execution_count":180,
      "outputs":[
        {
          "data":{
            "text\/plain":[
              "<matplotlib.legend.Legend at 0x7f6c6d7e1c40>"
            ],
            "image\/png":"[encoded data removed]"
          },
          "metadata":{
            "image\/png":{
              "width":0,
              "height":0
            }
          },
          "output_type":"display_data"
        }
      ],
      "metadata":{
        
      }
    },
    {
      "cell_type":"markdown",
      "source":[
        "### Kesimpulan\n",
        "Estimasi rata-rata pendapatan kota Cambridge (μ): 2.1768668 £ < μ < 2.1882211 £ <br>\n",
        "Estimasi standar deviasi pendapatan kota Cambridge (σ): 1.2263177 £ < σ < 1.2343464 £"
      ],
      "attachments":{
        
      },
      "metadata":{
        
      }
    },
    {
      "cell_type":"markdown",
      "source":[
        "### Nomor 4\n",
        "Berikan sebuah usulan penetapan tarif baru yang menurut Anda dapat \n",
        "meningkatkan pemasukan Pemkot Cambridge, mengurangi jumlah \n",
        "pengguna bermasalah namun juga dapat meningkatkan jumlah \n",
        "pengguna yang berdurasi parkir relatif cepat. Berikan justifikasi \n",
        "statistikanya."
      ],
      "attachments":{
        
      },
      "metadata":{
        
      }
    },
    {
      "cell_type":"code",
      "source":[
        "# Membuat kolom baru yang merupakan kolom data tarif baru atau usulan\n",
        "# suatu tarif bagi kota Cambridge\n",
        "new_income = []\n",
        "for i in range(len(merged_df)):\n",
        "    cur = merged_df.iloc[i,4] # Mengasumsikan tarif dihitung dengan berupa diskrit\n",
        "    new_income.append(cur*0.735) # 0.725 adalah tarif baru yang diusulkan\n",
        "merged_df[\"New Income (Poundsterling)\"] = pd.DataFrame(new_income)\n",
        "merged_df"
      ],
      "attachments":{
        
      },
      "execution_count":181,
      "outputs":[
        {
          "data":{
            "text\/html":[
              "<div>\n",
              "<style scoped>\n",
              "    .dataframe tbody tr th:only-of-type {\n",
              "        vertical-align: middle;\n",
              "    }\n",
              "\n",
              "    .dataframe tbody tr th {\n",
              "        vertical-align: top;\n",
              "    }\n",
              "\n",
              "    .dataframe thead th {\n",
              "        text-align: right;\n",
              "    }\n",
              "<\/style>\n",
              "<table border=\"1\" class=\"dataframe\">\n",
              "  <thead>\n",
              "    <tr style=\"text-align: right;\">\n",
              "      <th><\/th>\n",
              "      <th>Entries<\/th>\n",
              "      <th>Exits<\/th>\n",
              "      <th>Parking Duration<\/th>\n",
              "      <th>Parking Duration in Hour<\/th>\n",
              "      <th>Parking Duration Round Up<\/th>\n",
              "      <th>Income (Poundsterling)<\/th>\n",
              "      <th>New Income (Poundsterling)<\/th>\n",
              "    <\/tr>\n",
              "  <\/thead>\n",
              "  <tbody>\n",
              "    <tr>\n",
              "      <th>0<\/th>\n",
              "      <td>0<\/td>\n",
              "      <td>1<\/td>\n",
              "      <td>362<\/td>\n",
              "      <td>6.033333<\/td>\n",
              "      <td>7.0<\/td>\n",
              "      <td>5.25<\/td>\n",
              "      <td>5.145<\/td>\n",
              "    <\/tr>\n",
              "    <tr>\n",
              "      <th>1<\/th>\n",
              "      <td>0<\/td>\n",
              "      <td>1<\/td>\n",
              "      <td>245<\/td>\n",
              "      <td>4.083333<\/td>\n",
              "      <td>5.0<\/td>\n",
              "      <td>3.75<\/td>\n",
              "      <td>3.675<\/td>\n",
              "    <\/tr>\n",
              "    <tr>\n",
              "      <th>2<\/th>\n",
              "      <td>0<\/td>\n",
              "      <td>1<\/td>\n",
              "      <td>17<\/td>\n",
              "      <td>0.283333<\/td>\n",
              "      <td>1.0<\/td>\n",
              "      <td>0.75<\/td>\n",
              "      <td>0.735<\/td>\n",
              "    <\/tr>\n",
              "    <tr>\n",
              "      <th>3<\/th>\n",
              "      <td>0<\/td>\n",
              "      <td>1<\/td>\n",
              "      <td>45<\/td>\n",
              "      <td>0.750000<\/td>\n",
              "      <td>1.0<\/td>\n",
              "      <td>0.75<\/td>\n",
              "      <td>0.735<\/td>\n",
              "    <\/tr>\n",
              "    <tr>\n",
              "      <th>4<\/th>\n",
              "      <td>0<\/td>\n",
              "      <td>1<\/td>\n",
              "      <td>47<\/td>\n",
              "      <td>0.783333<\/td>\n",
              "      <td>1.0<\/td>\n",
              "      <td>0.75<\/td>\n",
              "      <td>0.735<\/td>\n",
              "    <\/tr>\n",
              "    <tr>\n",
              "      <th>...<\/th>\n",
              "      <td>...<\/td>\n",
              "      <td>...<\/td>\n",
              "      <td>...<\/td>\n",
              "      <td>...<\/td>\n",
              "      <td>...<\/td>\n",
              "      <td>...<\/td>\n",
              "      <td>...<\/td>\n",
              "    <\/tr>\n",
              "    <tr>\n",
              "      <th>311609<\/th>\n",
              "      <td>0<\/td>\n",
              "      <td>1<\/td>\n",
              "      <td>210<\/td>\n",
              "      <td>3.500000<\/td>\n",
              "      <td>4.0<\/td>\n",
              "      <td>3.00<\/td>\n",
              "      <td>2.940<\/td>\n",
              "    <\/tr>\n",
              "    <tr>\n",
              "      <th>311610<\/th>\n",
              "      <td>0<\/td>\n",
              "      <td>1<\/td>\n",
              "      <td>137<\/td>\n",
              "      <td>2.283333<\/td>\n",
              "      <td>3.0<\/td>\n",
              "      <td>2.25<\/td>\n",
              "      <td>2.205<\/td>\n",
              "    <\/tr>\n",
              "    <tr>\n",
              "      <th>311611<\/th>\n",
              "      <td>0<\/td>\n",
              "      <td>1<\/td>\n",
              "      <td>138<\/td>\n",
              "      <td>2.300000<\/td>\n",
              "      <td>3.0<\/td>\n",
              "      <td>2.25<\/td>\n",
              "      <td>2.205<\/td>\n",
              "    <\/tr>\n",
              "    <tr>\n",
              "      <th>311612<\/th>\n",
              "      <td>0<\/td>\n",
              "      <td>1<\/td>\n",
              "      <td>219<\/td>\n",
              "      <td>3.650000<\/td>\n",
              "      <td>4.0<\/td>\n",
              "      <td>3.00<\/td>\n",
              "      <td>2.940<\/td>\n",
              "    <\/tr>\n",
              "    <tr>\n",
              "      <th>311613<\/th>\n",
              "      <td>0<\/td>\n",
              "      <td>1<\/td>\n",
              "      <td>168<\/td>\n",
              "      <td>2.800000<\/td>\n",
              "      <td>3.0<\/td>\n",
              "      <td>2.25<\/td>\n",
              "      <td>2.205<\/td>\n",
              "    <\/tr>\n",
              "  <\/tbody>\n",
              "<\/table>\n",
              "<p>311614 rows × 7 columns<\/p>\n",
              "<\/div>"
            ]
          },
          "metadata":{
            
          },
          "output_type":"display_data"
        }
      ],
      "metadata":{
        
      }
    },
    {
      "cell_type":"code",
      "source":[
        "# Dengan memakai t-student maka akan dicari estimasi dari rataan dan juga standar deviasi\n",
        "# dari tarif baru yang diusulkan dan nantinya nilai estimasi dapat dibandingkan \n",
        "# dengan nilai estimasi baik rataan maupun maupun standar deviasi yang lama\n",
        "\n",
        "mean_sampel_newincome = merged_df[\"New Income (Poundsterling)\"].mean()\n",
        "std_sampel_newincome = merged_df[\"New Income (Poundsterling)\"].std()\n",
        "dof_newincome = len(merged_df[\"New Income (Poundsterling)\"])-1\n",
        "\n",
        "# Mencari nilai t-value\n",
        "p_batas_atas = (1 - 0.01) + ((1 - (1 - 0.01)) \/ 2)  # => batas atas dari tingkat selang kepercayaan sebesar 99%\n",
        "p_batas_bawah = (1 - (1 - 0.01)) \/ 2  # => batas bawah dari tingkat selang kepercayaan sebesar 99%\n",
        "\n",
        "t_val_bawah_ninc = t.ppf(p_batas_bawah, dof_newincome)\n",
        "t_val_atas_ninc = t.ppf(p_batas_atas, dof_newincome)\n",
        "\n",
        "t_val_ninc = t_val_atas_ninc = abs(t_val_bawah_ninc)\n",
        "\n",
        "# Margin of Error\n",
        "mof_ninc = t_val_ninc * std_sampel_newincome \/ math.sqrt(len(merged_df[\"New Income (Poundsterling)\"]))\n",
        "\n",
        "# Menghitung selang tingkat kepercayaan points untuk nilai tingkat kepercayaan 99%\n",
        "print('Estimasi rata-rata pendapatan baru kota Cambridge (\\u03BC):', \n",
        "      format(mean_sampel_newincome - mof_ninc, '.4f'), '£', '< \\u03BC <', format(mean_sampel_newincome + mof_ninc, '.4f'), '£')\n",
        "print('')\n",
        "\n",
        "chi_val_bawah_ninc = chi2.ppf(p_batas_bawah, dof_newincome)\n",
        "chi_val_atas_ninc = chi2.ppf(p_batas_atas, dof_newincome)\n",
        "\n",
        "# Fungsi untuk mengkuadratkan suatu bilangan, lalu menambahkannya dengan bilangan lain\n",
        "# yang juga sudah dikuadratkan\n",
        "def sum_and_square(data):\n",
        "    total = 0\n",
        "    for i in data:\n",
        "        total += i ** 2\n",
        "    return total\n",
        "\n",
        "# Menghitung estimasi standar deviasi menggunakan distribusi chi-squared, yaitu di mana diasumsikan  \n",
        "# bahwa standar deviasi populasi tidak diketahui sehingga variansi populasi juga tidak diketahui    \n",
        "var_populasi2_ninc = (len(merged_df[\"New Income (Poundsterling)\"]) * sum_and_square(merged_df[\"New Income (Poundsterling)\"])-\n",
        " (sum(merged_df[\"New Income (Poundsterling)\"])) ** 2) \/(len(merged_df[\"New Income (Poundsterling)\"]) * dof_newincome)\n",
        "\n",
        "print('Estimasi standar deviasi pendapatan baru kota Cambridge (\\u03C3):',\n",
        "      format((dof_newincome * var_populasi2_ninc\/chi_val_atas_ninc)**0.5, '.4f'),\"£\" , '< \\u03C3 <',\n",
        "        format((dof_newincome * var_populasi2_ninc\/chi_val_bawah_ninc)**0.5,'.4f'),\"£\")"
      ],
      "attachments":{
        
      },
      "execution_count":182,
      "outputs":[
        {
          "name":"stdout",
          "text":[
            "Estimasi rata-rata pendapatan baru kota Cambridge (μ): 2.2431 £ < μ < 2.2687 £\n",
            "\n",
            "Estimasi standar deviasi pendapatan baru kota Cambridge (σ): 2.7685 £ < σ < 2.7866 £\n"
          ],
          "output_type":"stream"
        }
      ],
      "metadata":{
        
      }
    },
    {
      "cell_type":"code",
      "source":[
        "# Jumlah total pendapatan kota Cambridge yang lama dan yang baru\n",
        "print(\"Pendapatan kota Cambridge yang lama adalah:\",sum(merged_df['Income (Poundsterling)']))\n",
        "print(\"Pendapatan kota Cambridge yang baru adalah:\",sum(merged_df['New Income (Poundsterling)']))\n",
        "\n",
        "# Jadi, sudah berhasil diusulkan tarif parkir di kota Cambridge yang baru"
      ],
      "attachments":{
        
      },
      "execution_count":183,
      "outputs":[
        {
          "name":"stdout",
          "text":[
            "Pendapatan kota Cambridge yang lama adalah: 680111.25\n",
            "Pendapatan kota Cambridge yang baru adalah: 702975.3149975545\n"
          ],
          "output_type":"stream"
        }
      ],
      "metadata":{
        
      }
    },
    {
      "cell_type":"markdown",
      "source":[
        "#### Sebelum harga diubah dan terdapat tarif maksimum\n",
        "Estimasi rata-rata pendapatan kota Cambridge (μ): 2.1768668 £ < μ < 2.1882211 £ <br>\n",
        "Estimasi standar deviasi pendapatan kota Cambridge (σ): 1.2263177 £ < σ < 1.2343464 £\n",
        "\n",
        "#### Setelah harga diubah dan tidak terdapat tarif maksimum\n",
        "Estimasi rata-rata pendapatan kota Cambridge (μ): 2.2126 £ < μ < 2.2379  <br>\n",
        "Estimasi standar deviasi pendapatan kota Cambridge (σ): 2.7308 £ < σ < 2.7487 £\n",
        "\n",
        "Jadi, dengan menurunkan harga tarifnya (untuk menarik pengguna jasa parkir dengan durasi cepat) dan menghilangkan tarif yang bersifat flat ketika tarif sudah lebih dari 6 Poundsterling (untuk menambahkan keuntungan bagi kota Cambridge katika adapengguna jasa parkir dengan durasi lama) maka dengan membandingkan estimasi rataan dan standar deviasi antara pendapatan kota Cambridge yang lama dan yang baru, didapatkan suatu usulan tarif baru, yaitu 0.735 Poundsterling."
      ],
      "attachments":{
        
      },
      "metadata":{
        
      }
    },
    {
      "cell_type":"markdown",
      "source":[
        "## Kesimpulan dan Saran\n",
        "\n",
        "Setelah melakukan proses penghitungan, kami menarik kesimpulan bahwa rata-rata durasi parkir kota Cambridge mencapai sekitar 2.5 jam dengan standar deviasi sebesar 3.7 jam. Selain itu, terdapat pengguna lahan parkir yang dapat disebut \"bermasalah\" sebesar 2.0907% dari seluruh sample parkir kota Cambridge. Kami menganggap bahwa sample yang kami miliki sebagai perwakilan dari data populasi yang jumlahnya sangat besar dan susah didapatkan. <br> \n",
        "<br>\n",
        "Dari proses perhitungan yang telah kami lakukan, kami mengambil saran bagi pemerintah kota Cambridge untuk menetapkan tarif baru sebesar 0,735 £, dan menghapuskan aturan tarif maksimal (tarif maksimal sebesar 6£, sehingga orang-orang yang menggunakan lahan parkir lebih dari 8 jam tetap akan mendapatkan tagihan sebesar 6£ ketika akan membayar) dalam menghitung tagihan parkir bagi pengguna lahan parkir yang menggunakan lahan cenderung sangat lama ('bermasalah'). Langkah ini kami ambil dalam rangka mengurangi pengguna lahan parkir yang \"bermasalah\" dan juga meningkatkan pengguna lahan parkir yang memiliki durasi cenderung cepat. <br> <br>\n",
        "Estimasi rata-rata (μ) pendapatan Kota Cambridge yang baru yaitu 2.2126 £ < μ < 2.2379 £ dan estimasi standar deviasi (σ) pendapatan kota Cambridge sebesar 2.7308 £ < σ < 2.7487 £. Jika dibandingkan dengan sebelumnya, terdapat sedikit perbedaan dengan peraturan lama pada estimasi rata-rata. Sedangkan, pada estimasi standar deviasi, selisih perbedaannya mencapai kurang lebih satu poundsterling yang berarti bahwa sebaran tagihan tarif parkirnya lebih bervariasi daripada sebelumnya. Tentunya, ini juga akan menambah pendapatan kota Cambridge."
      ],
      "attachments":{
        
      },
      "metadata":{
        
      }
    }
  ],
  "metadata":{
    
  },
  "nbformat":4,
  "nbformat_minor":0
}